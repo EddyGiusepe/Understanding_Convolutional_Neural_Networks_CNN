{
  "nbformat": 4,
  "nbformat_minor": 0,
  "metadata": {
    "colab": {
      "name": "Small_Image_Classification_Using_CNN_cifar10.ipynb",
      "provenance": [],
      "collapsed_sections": [],
      "authorship_tag": "ABX9TyNFei5/Mufx1MLBuuJ8Fq9s",
      "include_colab_link": true
    },
    "kernelspec": {
      "name": "python3",
      "display_name": "Python 3"
    },
    "language_info": {
      "name": "python"
    }
  },
  "cells": [
    {
      "cell_type": "markdown",
      "metadata": {
        "id": "view-in-github",
        "colab_type": "text"
      },
      "source": [
        "<a href=\"https://colab.research.google.com/github/EddyGiusepe/Understanding_Convolutional_Neural_Networks_CNN/blob/main/Small_Image_Classification_Using_CNN_cifar10.ipynb\" target=\"_parent\"><img src=\"https://colab.research.google.com/assets/colab-badge.svg\" alt=\"Open In Colab\"/></a>"
      ]
    },
    {
      "cell_type": "markdown",
      "source": [
        "# <h2 align=\"center\">Classificação de imagens pequenas usando rede neural convolucional (CNN)</h2>\n",
        "\n",
        "\n",
        "Data Science.: Dr.Eddy Giusepe Chirinos Isidro"
      ],
      "metadata": {
        "id": "B29mBTfB75Fd"
      }
    },
    {
      "cell_type": "code",
      "execution_count": 1,
      "metadata": {
        "id": "T2kl_CpH74Om"
      },
      "outputs": [],
      "source": [
        "# Nossas Bibliotecas\n",
        "\n",
        "import tensorflow as tf\n",
        "from tensorflow.keras import datasets, layers, models\n",
        "import matplotlib.pyplot as plt\n",
        "import numpy as np"
      ]
    },
    {
      "cell_type": "code",
      "source": [
        "# Carregamos nosso Dataset\n",
        "\n",
        "(X_train, y_train), (X_test,y_test) = datasets.cifar10.load_data()\n"
      ],
      "metadata": {
        "id": "Er98S6AE875c"
      },
      "execution_count": 4,
      "outputs": []
    },
    {
      "cell_type": "code",
      "source": [
        "X_train.shape"
      ],
      "metadata": {
        "colab": {
          "base_uri": "https://localhost:8080/"
        },
        "id": "4D-x3_GY-_-j",
        "outputId": "486cc235-fe6a-4d08-fad6-0957661e579b"
      },
      "execution_count": 5,
      "outputs": [
        {
          "output_type": "execute_result",
          "data": {
            "text/plain": [
              "(50000, 32, 32, 3)"
            ]
          },
          "metadata": {},
          "execution_count": 5
        }
      ]
    },
    {
      "cell_type": "code",
      "source": [
        "X_test.shape"
      ],
      "metadata": {
        "colab": {
          "base_uri": "https://localhost:8080/"
        },
        "id": "QyLxveVT-42h",
        "outputId": "b4598803-e9b1-4f63-da70-cdbd7f9d68cc"
      },
      "execution_count": 6,
      "outputs": [
        {
          "output_type": "execute_result",
          "data": {
            "text/plain": [
              "(10000, 32, 32, 3)"
            ]
          },
          "metadata": {},
          "execution_count": 6
        }
      ]
    },
    {
      "cell_type": "code",
      "source": [
        ""
      ],
      "metadata": {
        "id": "CGPPdK0H-8Zp"
      },
      "execution_count": null,
      "outputs": []
    }
  ]
}